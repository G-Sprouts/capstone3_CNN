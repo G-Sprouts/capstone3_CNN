{
 "cells": [
  {
   "cell_type": "code",
   "execution_count": 202,
   "metadata": {},
   "outputs": [],
   "source": [
    "import pandas as pd\n",
    "import numpy as np\n",
    "from numpy.linalg.lapack_lite import *\n",
    "import scipy\n",
    "import matplotlib.pyplot\n",
    "import tensorflow as tf\n",
    "from tensorflow import keras, layers\n",
    "\n",
    "#from sklearn.model_selection import train_test_split"
   ]
  },
  {
   "cell_type": "code",
   "execution_count": 203,
   "metadata": {},
   "outputs": [],
   "source": [
    "train_data = pd.read_csv('train.csv')"
   ]
  },
  {
   "cell_type": "code",
   "execution_count": 204,
   "metadata": {},
   "outputs": [],
   "source": [
    "model = tf.keras.Sequential([\n",
    "    #keras.layers.Rescaling(1./255, input_shape=(X_train.shape[1], X_train.shape[2], X_train.shape[3])),\n",
    "    keras.layers.Conv2D(32,5, activation='relu', padding='same'),\n",
    "    keras.layers.MaxPooling2D((2,2), strides = (3,3)), \n",
    "    keras.layers.Conv2D(64,3, strides = (3,3), activation='relu', padding='same'),\n",
    "    keras.layers.MaxPooling2D((2,2), strides = (3,3)), \n",
    "    keras.layers.Conv2D(128,3, strides = (3,3), activation='relu', padding='same'),\n",
    "    keras.layers.MaxPooling2D((2,2), strides = (3,3)),\n",
    "    keras.layers.Conv2D(128,3, activation='relu', padding='same'),\n",
    "    keras.layers.Flatten(),\n",
    "    keras.layers.Dense(50, activation='relu'),\n",
    "    keras.layers.Dropout(0.4),\n",
    "    keras.layers.Dense(15, activation='relu'),\n",
    "    keras.layers.Softmax()\n",
    "])\n",
    "\n",
    "\n",
    "\n",
    "model.compile(optimizer='adam', loss='sparse_categorical_crossentropy', metrics=['accuracy'])\n"
   ]
  },
  {
   "cell_type": "code",
   "execution_count": 205,
   "metadata": {},
   "outputs": [],
   "source": [
    "files = np.load('arrays.npz')\n",
    "\n",
    "arrays = [files[key] for key in files]"
   ]
  },
  {
   "cell_type": "code",
   "execution_count": 206,
   "metadata": {},
   "outputs": [],
   "source": [
    "nps=[]\n",
    "\n",
    "for x in arrays:\n",
    "    new = np.resize(x,(256,256))\n",
    "    new = np.asarray(new)\n",
    "    new = keras.preprocessing.image.img_to_array(new)\n",
    "    nps.append(new)"
   ]
  },
  {
   "cell_type": "code",
   "execution_count": 207,
   "metadata": {},
   "outputs": [],
   "source": [
    "ids = train_data.image_id.unique()\n",
    "\n",
    "labels = []\n",
    "for id_ in ids:\n",
    "    df = train_data[train_data.image_id == id_]\n",
    "    label = df.iloc[0,2]\n",
    "    #label = tf.io.decode_raw(label, tf.uint8)\n",
    "    #label = tf.reshape(label, label.shape)\n",
    "    #label = tf.one_hot(label, 10)\n",
    "    labels.append(label)"
   ]
  },
  {
   "cell_type": "code",
   "execution_count": 208,
   "metadata": {},
   "outputs": [],
   "source": [
    "labels = np.stack(labels)\n",
    "data = np.stack(nps)"
   ]
  },
  {
   "cell_type": "code",
   "execution_count": 249,
   "metadata": {},
   "outputs": [
    {
     "data": {
      "text/plain": [
       "numpy.ndarray"
      ]
     },
     "execution_count": 249,
     "metadata": {},
     "output_type": "execute_result"
    }
   ],
   "source": [
    "type(labels)"
   ]
  },
  {
   "cell_type": "code",
   "execution_count": 210,
   "metadata": {},
   "outputs": [],
   "source": [
    "X_train, X_test, y_train, y_test = data[:12000], data[12000:], labels[:12000], labels[12000:]"
   ]
  },
  {
   "cell_type": "code",
   "execution_count": 211,
   "metadata": {},
   "outputs": [
    {
     "name": "stdout",
     "output_type": "stream",
     "text": [
      "Train on 9600 samples, validate on 2400 samples\n",
      "Epoch 1/5\n",
      "9600/9600 [==============================] - 56s 6ms/sample - loss: 1.6023 - acc: 0.6103 - val_loss: 0.8660 - val_acc: 0.7921\n",
      "Epoch 2/5\n",
      "9600/9600 [==============================] - 54s 6ms/sample - loss: 1.3305 - acc: 0.6342 - val_loss: 0.7783 - val_acc: 0.7933\n",
      "Epoch 3/5\n",
      "9600/9600 [==============================] - 54s 6ms/sample - loss: 1.2225 - acc: 0.6529 - val_loss: 0.7061 - val_acc: 0.8221\n",
      "Epoch 4/5\n",
      "9600/9600 [==============================] - 54s 6ms/sample - loss: 1.2043 - acc: 0.6517 - val_loss: 0.7353 - val_acc: 0.8171\n",
      "Epoch 5/5\n",
      "9600/9600 [==============================] - 54s 6ms/sample - loss: 1.1727 - acc: 0.6606 - val_loss: 0.7251 - val_acc: 0.8225\n"
     ]
    },
    {
     "data": {
      "text/plain": [
       "<tensorflow.python.keras.callbacks.History at 0x253bef008c8>"
      ]
     },
     "execution_count": 211,
     "metadata": {},
     "output_type": "execute_result"
    }
   ],
   "source": [
    "model.fit(X_train, y_train, epochs=5, batch_size=50, validation_split=0.2)"
   ]
  },
  {
   "cell_type": "code",
   "execution_count": 212,
   "metadata": {
    "scrolled": true
   },
   "outputs": [
    {
     "name": "stdout",
     "output_type": "stream",
     "text": [
      "Model: \"sequential_19\"\n",
      "_________________________________________________________________\n",
      "Layer (type)                 Output Shape              Param #   \n",
      "=================================================================\n",
      "conv2d_59 (Conv2D)           multiple                  832       \n",
      "_________________________________________________________________\n",
      "max_pooling2d_54 (MaxPooling multiple                  0         \n",
      "_________________________________________________________________\n",
      "conv2d_60 (Conv2D)           multiple                  18496     \n",
      "_________________________________________________________________\n",
      "max_pooling2d_55 (MaxPooling multiple                  0         \n",
      "_________________________________________________________________\n",
      "conv2d_61 (Conv2D)           multiple                  73856     \n",
      "_________________________________________________________________\n",
      "max_pooling2d_56 (MaxPooling multiple                  0         \n",
      "_________________________________________________________________\n",
      "conv2d_62 (Conv2D)           multiple                  147584    \n",
      "_________________________________________________________________\n",
      "flatten_11 (Flatten)         multiple                  0         \n",
      "_________________________________________________________________\n",
      "dense_22 (Dense)             multiple                  6450      \n",
      "_________________________________________________________________\n",
      "dropout_5 (Dropout)          multiple                  0         \n",
      "_________________________________________________________________\n",
      "dense_23 (Dense)             multiple                  765       \n",
      "_________________________________________________________________\n",
      "softmax_14 (Softmax)         multiple                  0         \n",
      "=================================================================\n",
      "Total params: 247,983\n",
      "Trainable params: 247,983\n",
      "Non-trainable params: 0\n",
      "_________________________________________________________________\n"
     ]
    }
   ],
   "source": [
    "model.summary()"
   ]
  },
  {
   "cell_type": "code",
   "execution_count": 213,
   "metadata": {},
   "outputs": [
    {
     "name": "stdout",
     "output_type": "stream",
     "text": [
      "3000/3000 [==============================] - 3s 1ms/sample - loss: 0.5265 - acc: 0.8840\n"
     ]
    },
    {
     "data": {
      "text/plain": [
       "[0.5264852770964304, 0.884]"
      ]
     },
     "execution_count": 213,
     "metadata": {},
     "output_type": "execute_result"
    }
   ],
   "source": [
    "model.evaluate(X_test, y_test)"
   ]
  },
  {
   "cell_type": "code",
   "execution_count": 214,
   "metadata": {},
   "outputs": [],
   "source": [
    "predictions = model.predict(X_test)"
   ]
  },
  {
   "cell_type": "code",
   "execution_count": 248,
   "metadata": {},
   "outputs": [
    {
     "data": {
      "text/plain": [
       "array([1.8030634e-03, 2.0125337e-04, 2.0125337e-04, 7.2789495e-04,\n",
       "       2.0125337e-04, 2.0125337e-04, 2.0125337e-04, 2.0125337e-04,\n",
       "       2.0125337e-04, 2.0125337e-04, 2.0125337e-04, 4.6083005e-04,\n",
       "       2.0125337e-04, 5.1035301e-04, 9.9448532e-01], dtype=float32)"
      ]
     },
     "execution_count": 248,
     "metadata": {},
     "output_type": "execute_result"
    }
   ],
   "source": [
    "predictions[1]"
   ]
  },
  {
   "cell_type": "code",
   "execution_count": 246,
   "metadata": {},
   "outputs": [
    {
     "data": {
      "text/plain": [
       "14"
      ]
     },
     "execution_count": 246,
     "metadata": {},
     "output_type": "execute_result"
    }
   ],
   "source": [
    "y_test[0]"
   ]
  },
  {
   "cell_type": "code",
   "execution_count": 159,
   "metadata": {},
   "outputs": [
    {
     "name": "stdout",
     "output_type": "stream",
     "text": [
      "Failed to import pydot. You must install pydot and graphviz for `pydotprint` to work.\n"
     ]
    }
   ],
   "source": [
    "tf.keras.utils.plot_model(model)"
   ]
  }
 ],
 "metadata": {
  "kernelspec": {
   "display_name": "Python 3",
   "language": "python",
   "name": "python3"
  },
  "language_info": {
   "codemirror_mode": {
    "name": "ipython",
    "version": 3
   },
   "file_extension": ".py",
   "mimetype": "text/x-python",
   "name": "python",
   "nbconvert_exporter": "python",
   "pygments_lexer": "ipython3",
   "version": "3.7.9"
  }
 },
 "nbformat": 4,
 "nbformat_minor": 4
}
