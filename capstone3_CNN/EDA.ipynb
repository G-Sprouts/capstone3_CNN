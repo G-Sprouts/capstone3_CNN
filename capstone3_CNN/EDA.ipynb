{
 "cells": [
  {
   "cell_type": "markdown",
   "metadata": {},
   "source": [
    "### The data examined here is fully available by following this [link](https://www.kaggle.com/c/vinbigdata-chest-xray-abnormalities-detection/data) to Kaggle. "
   ]
  },
  {
   "cell_type": "code",
   "execution_count": null,
   "metadata": {},
   "outputs": [],
   "source": [
    "# import necessary libraries\n",
    "\n",
    "import pandas as pd\n",
    "import numpy as np\n",
    "import os\n",
    "import sys\n",
    "import cv2\n",
    "import PIL\n",
    "from PIL import Image, ImageFile, Jpeg2KImagePlugin\n",
    "import pickle\n",
    "\n",
    "\n",
    "import imageio\n",
    "from pydicom import dcmread\n",
    "import pydicom\n",
    "from pydicom.pixel_data_handlers.util import apply_voi_lut\n",
    "\n",
    "import matplotlib.pyplot as plt\n",
    "import matplotlib.patches as patches"
   ]
  },
  {
   "cell_type": "code",
   "execution_count": null,
   "metadata": {},
   "outputs": [],
   "source": [
    "# read in files and create path to image directories\n",
    "\n",
    "train_df = pd.read_csv('train.csv')\n",
    "train_img = ('train/')\n",
    "test_img_path = ('test/')\n",
    "ids = train_df.image_id"
   ]
  },
  {
   "cell_type": "code",
   "execution_count": null,
   "metadata": {},
   "outputs": [],
   "source": [
    "# all null values are accounted for. Any 'class-name' that equals 'No finding', does not have any border box coordinates.\n",
    "# Keep in Dataframe, as there is ambiguity with labeling.\n",
    "\n",
    "train_df.info()"
   ]
  },
  {
   "cell_type": "code",
   "execution_count": null,
   "metadata": {},
   "outputs": [],
   "source": [
    "# examine first rows of dataframe\n",
    "\n",
    "train_df.head()"
   ]
  },
  {
   "cell_type": "code",
   "execution_count": null,
   "metadata": {},
   "outputs": [],
   "source": [
    "# replace nan values in bounding box columns with zeros\n",
    "\n",
    "train_df = train_df.fillna(0)"
   ]
  },
  {
   "cell_type": "code",
   "execution_count": null,
   "metadata": {},
   "outputs": [],
   "source": [
    "# pull all values of image_id in dataframe. Note how there are over 67k image_ids but only 15000 unique ids\n",
    "\n",
    "ids = train_df.image_id\n",
    "unique_ids = train_df.image_id.unique()\n",
    "\n",
    "print(len(ids))\n",
    "print(len(unique_ids))"
   ]
  },
  {
   "cell_type": "code",
   "execution_count": null,
   "metadata": {},
   "outputs": [],
   "source": [
    "# there are 17 different radiologists, split into groups of 3, who labeled each image\n",
    "\n",
    "train_df.rad_id.unique()"
   ]
  },
  {
   "cell_type": "code",
   "execution_count": null,
   "metadata": {},
   "outputs": [],
   "source": [
    "# overwhelming majority of images have 'No finding' measurement\n",
    "\n",
    "train_df.class_name.value_counts()"
   ]
  },
  {
   "cell_type": "code",
   "execution_count": null,
   "metadata": {},
   "outputs": [],
   "source": [
    "# visualize the data imbalance\n",
    "\n",
    "plt.barh(train_df.class_name.value_counts(ascending=True).index, train_df.class_name.value_counts(ascending=True))\n",
    "plt.title('Gross label count')\n",
    "plt.xlabel('Observations')\n",
    "plt.ylabel('Labeled Condition')\n",
    "plt.show()"
   ]
  },
  {
   "cell_type": "code",
   "execution_count": null,
   "metadata": {},
   "outputs": [],
   "source": [
    "# create a mask for each image, resize it, and scale each bounding box accordingly \n",
    "\n",
    "def im_mask(data, bb):\n",
    "    rows, cols = data.shape\n",
    "    Y = np.zeros((rows, cols))\n",
    "    bb = bb.astype(np.int)\n",
    "    Y[bb[0]:bb[2], bb[1]:bb[3]] = 1\n",
    "    return Y\n",
    "    \n",
    "def mask_to_bb(Y):\n",
    "    cols, rows = np.nonzero(Y)\n",
    "    if len(cols) == 0:\n",
    "        return np.zeros(4, dtype=np.float32)\n",
    "    top_row = np.min(rows)\n",
    "    left_col = np.min(cols)\n",
    "    bottom_row = np.max(rows)\n",
    "    right_col = np.max(cols)\n",
    "    return np.array([left_col, top_row, right_col, bottom_row])\n",
    "\n",
    "def create_bb_array(df):\n",
    "    return df.iloc[:,4:]\n",
    "\n",
    "def resized(data,bb):\n",
    "    resized = cv2.resize(im_mask(data, bb), (256,256))\n",
    "    return mask_to_bb(resized)"
   ]
  },
  {
   "cell_type": "code",
   "execution_count": null,
   "metadata": {},
   "outputs": [],
   "source": [
    "# initialize an empty dataframe to upload scaled data\n",
    "\n",
    "emp_df = pd.DataFrame(index=range(0,len(train_df.image_id)), columns=['id', 'label', 'xmin', 'ymin', 'xmax', 'ymax'])\n",
    "emp_df"
   ]
  },
  {
   "cell_type": "code",
   "execution_count": null,
   "metadata": {
    "scrolled": true
   },
   "outputs": [],
   "source": [
    "# for each unique image_id, read the dicom file, extract the pixel array then resize and flatten to be exported as a .npy\n",
    "# file for easy reuse for modeling\n",
    "\n",
    "ids = train_df.image_id.unique()\n",
    "labels = []\n",
    "df_data = []\n",
    "boxes = []\n",
    "new_boxes = []\n",
    "count = 0\n",
    "for n, id_ in enumerate(ids):\n",
    "    dicom_path = train_img + id_ + '.dicom'\n",
    "    dicom = pydicom.dcmread(dicom_path)\n",
    "    \n",
    "    data = dicom.pixel_array\n",
    "    data = data - np.min(data)\n",
    "    data = data / np.max(data)\n",
    "    data = (data * 255).astype(np.uint8)\n",
    "    im = Image.fromarray(data)\n",
    "    \n",
    "    new_im = im.resize((256,256))\n",
    "    npdata = np.asarray(new_im)\n",
    "    \n",
    "    npdata = npdata.flatten().reshape(1, 65536)\n",
    "    df_data.append(npdata)\n",
    "\n",
    "    df = train_df[train_df.image_id == id_]\n",
    "    box = df.iloc[:,4:].values\n",
    "    label = df.iloc[:,2].values\n",
    "    labels.append(label)\n",
    "    boxes.append(box)\n",
    "\n",
    "    for l,b in zip(labels,boxes):\n",
    "        for x,y in zip(l,b):\n",
    "            new_bb = resized(data,y)\n",
    "            emp_df.iloc[count,0] = id_\n",
    "            emp_df.iloc[count,1] = x\n",
    "            emp_df.iloc[count,2:] = new_bb  \n",
    "            count +=1\n",
    "    boxes = []\n",
    "    labels = []  "
   ]
  },
  {
   "cell_type": "code",
   "execution_count": null,
   "metadata": {},
   "outputs": [],
   "source": [
    "# export populated dataframe to csv file for modeling exercises \n",
    "\n",
    "emp_df.to_csv('data.csv')"
   ]
  },
  {
   "cell_type": "code",
   "execution_count": null,
   "metadata": {},
   "outputs": [],
   "source": [
    "# open path to test images directory for pixel extraction and manipulation\n",
    "\n",
    "test_img_list = os.listdir(test_img_path)"
   ]
  },
  {
   "cell_type": "code",
   "execution_count": null,
   "metadata": {},
   "outputs": [],
   "source": [
    "# pull each image file from the directory, extract pixel array, resize, flatten and append it to a list for exporting\n",
    "\n",
    "test_img_ar = []\n",
    "\n",
    "for t_img in test_img_list:\n",
    "    dicom = pydicom.dcmread(test_img_path + t_img)\n",
    "    \n",
    "    data = dicom.pixel_array\n",
    "    data = data - np.min(data)\n",
    "    data = data / np.max(data)\n",
    "    data = (data * 255).astype(np.uint8)\n",
    "    im = Image.fromarray(data)\n",
    "    \n",
    "    new_im = im.resize((256,256))\n",
    "    test_data = np.asarray(new_im)\n",
    "    \n",
    "    test_data = test_data.flatten().reshape(1, 65536)\n",
    "    test_img_ar.append(test_data)"
   ]
  },
  {
   "cell_type": "code",
   "execution_count": null,
   "metadata": {},
   "outputs": [],
   "source": [
    "# save numpy arrays of train images as a numpy zip file\n",
    "\n",
    "np.savez('arrays.npz', *df_data)"
   ]
  },
  {
   "cell_type": "code",
   "execution_count": null,
   "metadata": {},
   "outputs": [],
   "source": [
    "# save numpy arrays of test images as a numpy zip file\n",
    "\n",
    "np.savez('test_arrays.npz', *test_img_ar)"
   ]
  },
  {
   "cell_type": "code",
   "execution_count": null,
   "metadata": {},
   "outputs": [],
   "source": [
    "# create a single list of lists to iterate through\n",
    "\n",
    "file = zip(lab_id, labels)\n",
    "        "
   ]
  },
  {
   "cell_type": "code",
   "execution_count": null,
   "metadata": {},
   "outputs": [],
   "source": [
    "# Iterate through the zipped list to find image ids with the highest value count of of each possible class label\n",
    "\n",
    "for x,y in file:\n",
    "    for l in y:\n",
    "        a = x\n",
    "        b = l.index\n",
    "        c = l[0]\n",
    "        if b[0] == 'Pulmonary fibrosis':\n",
    "            if c > 5:\n",
    "                print(a, l)"
   ]
  },
  {
   "cell_type": "code",
   "execution_count": null,
   "metadata": {},
   "outputs": [],
   "source": [
    "# list of labels\n",
    "\n",
    "lab_list = [x for x in train_df.class_name.unique()]"
   ]
  },
  {
   "cell_type": "code",
   "execution_count": null,
   "metadata": {},
   "outputs": [],
   "source": [
    "# images with the highest concentration of labeling for each class\n",
    "### note that 'No finding' images have a limit of 3 labels: a single label from each of the three radiologists, so all \n",
    "### 'No finding' images had identical class labels\n",
    "\n",
    "high_ims = {'Cardiomegaly': 'd61eb45d47ad48020286203b1f1362f8', \n",
    "            'Aortic enlargement': 'e82620b01bbc77792885029d3cd0d8ae', \n",
    "            'Pleural thickening': 'e31be972e181987a8600a8700c1ebe88', 'ILD': 'd3823d24855b6ef03c188e962948b4b9', \n",
    "            'Nodule/Mass': '03e6ecfa6f6fb33dfeac6ca4f9b459c9', 'PF':'e62c07fde352cc658af3f989fe0b546f', \n",
    "            'Lung Opacity': '4068af795c7cb80fec0883dab82f4fbf', 'Atelectasis': '1dafb16f8c69e188cf2152200e0cb2ef', \n",
    "            'Other lesion': '53b1a490cd7e3a30e94014bdfd314d14', 'Infiltration': '1aaa4b217affae30113bd3a7a384a4c7', \n",
    "            'Pleural effusion': '04bb8bd7ee6f88a16623fe5c6dd4da91', 'Calcification': 'dfd523a5991fc852654bf1235c6282c6', \n",
    "            'Consolidation': '4b91d54f3170a9c8a757e6acd6c25588', 'Pneumothorax': 'f51434ef988e30a05f8b0986814d9485'}"
   ]
  },
  {
   "cell_type": "code",
   "execution_count": null,
   "metadata": {},
   "outputs": [],
   "source": [
    "# Pull images from dataframe that have highest frequency of one label name, create images from their pixel arrays, and plot \n",
    "# all bounding boxes linked to that image\n",
    "\n",
    "### Important step to take because it visualizes the common 'look' of a condition versus another. Not only that, some \n",
    "### conditions, like 'Nodule/Mass' rarely has one to five boxes labeled, but upwards of 20+.\n",
    "### Visualizing each condition also provides an insight as to how the model will view each image. For example, since the \n",
    "### 'Nodule/Mass' class is most frequently labeled upwards of 20 times, its pixel array will have a signature that \n",
    "### will correspond to that trend. \n",
    "\n",
    "ims = []\n",
    "bbox = []\n",
    "for key,id_ in high_ims.items():\n",
    "\n",
    "    dicom_path = train_img + id_ + '.dicom'\n",
    "    dicom = pydicom.dcmread(dicom_path)\n",
    "    print(dicom)\n",
    "    data = dicom.pixel_array\n",
    "    data = data - np.min(data)\n",
    "    data = data / np.max(data)\n",
    "    data = (data * 255).astype(np.uint8)\n",
    "    im = Image.fromarray(data)\n",
    "    \n",
    "    df = train_df[train_df.image_id == id_]\n",
    "    box_values = df.iloc[:,4:]\n",
    "    for v in box_values.values:\n",
    "        xy = (v[0], v[1])\n",
    "        width = (v[2] - v[0])\n",
    "        height = (v[3] - v[1])\n",
    "        box = patches.Rectangle((xy), width=width, height=height, edgecolor='white', fill=False)\n",
    "        bbox.append(box)\n",
    "    fig, ax = plt.subplots(1)\n",
    "    plt.figure(figsize=(20,20))\n",
    "    for b in bbox:\n",
    "        ax.add_patch(b)\n",
    "    ax.set_title(str(key))\n",
    "    ax.set_xticks([])\n",
    "    ax.set_yticks([])\n",
    "    ax.imshow(im)\n",
    "    bbox = []"
   ]
  },
  {
   "cell_type": "code",
   "execution_count": null,
   "metadata": {},
   "outputs": [],
   "source": []
  }
 ],
 "metadata": {
  "kernelspec": {
   "display_name": "Python 3",
   "language": "python",
   "name": "python3"
  },
  "language_info": {
   "codemirror_mode": {
    "name": "ipython",
    "version": 3
   },
   "file_extension": ".py",
   "mimetype": "text/x-python",
   "name": "python",
   "nbconvert_exporter": "python",
   "pygments_lexer": "ipython3",
   "version": "3.8.5"
  }
 },
 "nbformat": 4,
 "nbformat_minor": 4
}
