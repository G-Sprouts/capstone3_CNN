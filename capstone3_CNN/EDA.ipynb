{
 "cells": [
  {
   "cell_type": "code",
   "execution_count": 10,
   "metadata": {},
   "outputs": [],
   "source": [
    "import pandas as pd\n",
    "import numpy as np\n",
    "import os\n",
    "import cv2\n",
    "import PIL\n",
    "from PIL import Image, ImageFile, Jpeg2KImagePlugin\n",
    "import pickle\n",
    "\n",
    "\n",
    "import imageio\n",
    "from pydicom import dcmread\n",
    "import pydicom\n",
    "from pydicom.pixel_data_handlers.util import apply_voi_lut\n",
    "\n",
    "import matplotlib.pyplot as plt\n",
    "import matplotlib.patches as patches"
   ]
  },
  {
   "cell_type": "code",
   "execution_count": 11,
   "metadata": {},
   "outputs": [],
   "source": [
    "train_df = pd.read_csv('train.csv')\n",
    "train_img = ('train/')\n",
    "ids = train_df.image_id"
   ]
  },
  {
   "cell_type": "code",
   "execution_count": 242,
   "metadata": {
    "scrolled": true
   },
   "outputs": [],
   "source": [
    "# for each unique image_id, read the dicom file, extract the pixel array then resize and flatten to be exported as a .npy\n",
    "# file for easy reuse for modeling\n",
    "\n",
    "ids = train_df.image_id.unique()\n",
    "\n",
    "df_data = []\n",
    "\n",
    "for n, id_ in enumerate(ids):\n",
    "    dicom_path = train_img + id_ + '.dicom'\n",
    "    dicom = pydicom.dcmread(dicom_path)\n",
    "    \n",
    "    data = dicom.pixel_array\n",
    "    data = data - np.min(data)\n",
    "    data = data / np.max(data)\n",
    "    data = (data * 255).astype(np.uint8)\n",
    "    im = Image.fromarray(data)\n",
    "    \n",
    "    new_im = im.resize((256,256))\n",
    "    npdata = np.asarray(new_im)\n",
    "    \n",
    "    npdata = npdata.flatten().reshape(1, 65536)\n",
    "    df_data.append(npdata)\n"
   ]
  },
  {
   "cell_type": "code",
   "execution_count": 39,
   "metadata": {},
   "outputs": [],
   "source": [
    "# save numpy arrays as a numpy zip file (.npz)\n",
    "\n",
    "np.savez('arrays.npz', *df_data)"
   ]
  },
  {
   "cell_type": "code",
   "execution_count": 41,
   "metadata": {},
   "outputs": [],
   "source": [
    "# load file \n",
    "\n",
    "files = np.load('arrays.npz')"
   ]
  },
  {
   "cell_type": "code",
   "execution_count": 42,
   "metadata": {},
   "outputs": [],
   "source": [
    "# iterate through arrays to pull each one\n",
    "\n",
    "file = [files[key] for key in files]"
   ]
  },
  {
   "cell_type": "code",
   "execution_count": 241,
   "metadata": {},
   "outputs": [],
   "source": [
    "# verify the process worked\n",
    "\n",
    "file"
   ]
  },
  {
   "cell_type": "code",
   "execution_count": 15,
   "metadata": {},
   "outputs": [],
   "source": [
    "# examine first rows of dataframe\n",
    "\n",
    "train_df.head()"
   ]
  },
  {
   "cell_type": "code",
   "execution_count": 16,
   "metadata": {},
   "outputs": [],
   "source": [
    "# there are 17 different radiologists, split into groups of 3, who labeled each image\n",
    "\n",
    "train_df.rad_id.unique()"
   ]
  },
  {
   "cell_type": "code",
   "execution_count": 17,
   "metadata": {},
   "outputs": [],
   "source": [
    "# all null values are accounted for. Any 'class-name' that equals 'No finding', does not have any border box coordinates.\n",
    "# Keep in Dataframe, as there is ambiguity with labeling.\n",
    "\n",
    "train_df.info()"
   ]
  },
  {
   "cell_type": "code",
   "execution_count": 5,
   "metadata": {},
   "outputs": [],
   "source": [
    "# replace nan values in bounding box columns with zeros\n",
    "\n",
    "train_df = train_df.fillna(0)"
   ]
  },
  {
   "cell_type": "code",
   "execution_count": 18,
   "metadata": {},
   "outputs": [],
   "source": [
    "# verify change\n",
    "\n",
    "train_df.head()"
   ]
  },
  {
   "cell_type": "code",
   "execution_count": 9,
   "metadata": {},
   "outputs": [],
   "source": [
    "# pull all values of image_id in dataframe. Note how there are over 67k image_ids but only 15000 unique ids\n",
    "\n",
    "ids = train_df.image_id\n",
    "unique_ids = train_df.image_id.unique()"
   ]
  },
  {
   "cell_type": "code",
   "execution_count": 19,
   "metadata": {},
   "outputs": [],
   "source": [
    "# this means there are images with multiple labels\n",
    "\n",
    "print(len(ids))\n",
    "print(len(unique_ids))"
   ]
  },
  {
   "cell_type": "code",
   "execution_count": 20,
   "metadata": {},
   "outputs": [],
   "source": [
    "# overwhelming majority of images have at least 1 'No finding' measurement\n",
    "\n",
    "train_df.class_name.value_counts()"
   ]
  },
  {
   "cell_type": "code",
   "execution_count": 21,
   "metadata": {},
   "outputs": [],
   "source": [
    "plt.barh(train_df.class_name.value_counts(ascending=True).index, train_df.class_name.value_counts(ascending=True))\n",
    "plt.title('Gross label count')\n",
    "plt.xlabel('Observations')\n",
    "plt.ylabel('Labeled Condition')\n",
    "plt.show()"
   ]
  },
  {
   "cell_type": "code",
   "execution_count": 12,
   "metadata": {},
   "outputs": [],
   "source": [
    "# create a df by matching each unique id, and pull corresponding class labels, their counts and the indicies\n",
    "\n",
    "labels = []\n",
    "lab_id = []\n",
    "for id_ in unique_ids:\n",
    "    df = train_df[train_df.image_id == id_]\n",
    "    label = df.iloc[:,1].value_counts()\n",
    "    label2 = df.iloc[:,1].value_counts().index\n",
    "    \n",
    "    labels.append([label])\n",
    "    lab_id.append(id_)"
   ]
  },
  {
   "cell_type": "code",
   "execution_count": 13,
   "metadata": {},
   "outputs": [],
   "source": [
    "# create a single list of from the lists to iterate through\n",
    "\n",
    "file = zip(lab_id, labels)\n",
    "        "
   ]
  },
  {
   "cell_type": "code",
   "execution_count": 248,
   "metadata": {},
   "outputs": [],
   "source": [
    "# Iterate through the zipped list to find image ids with the highest value count of of each possible class label\n",
    "\n",
    "for x,y in file:\n",
    "    for l in y:\n",
    "        a = x\n",
    "        b = l.index\n",
    "        c = l[0]\n",
    "        if b[0] == 'Pulmonary fibrosis':\n",
    "            if c > 5:\n",
    "                print(a, l)"
   ]
  },
  {
   "cell_type": "code",
   "execution_count": 17,
   "metadata": {},
   "outputs": [],
   "source": [
    "# list of labels\n",
    "\n",
    "lab_list = [x for x in train_df.class_name.unique()]"
   ]
  },
  {
   "cell_type": "code",
   "execution_count": 22,
   "metadata": {},
   "outputs": [],
   "source": [
    "lab_list"
   ]
  },
  {
   "cell_type": "code",
   "execution_count": 14,
   "metadata": {},
   "outputs": [],
   "source": [
    "# images with the highest concentration of labeling for each class\n",
    "### note that 'No finding' images have a limit of 3 labels: a single label from each of the three radiologists, so all \n",
    "### 'No finding' images had identical class labels\n",
    "\n",
    "high_ims = {'Cardiomegaly': 'd61eb45d47ad48020286203b1f1362f8', \n",
    "            'Aortic enlargement': 'e82620b01bbc77792885029d3cd0d8ae', \n",
    "            'Pleural thickening': 'e31be972e181987a8600a8700c1ebe88', 'ILD': 'd3823d24855b6ef03c188e962948b4b9', \n",
    "            'Nodule/Mass': '03e6ecfa6f6fb33dfeac6ca4f9b459c9', 'PF':'e62c07fde352cc658af3f989fe0b546f', \n",
    "            'Lung Opacity': '4068af795c7cb80fec0883dab82f4fbf', 'Atelectasis': '1dafb16f8c69e188cf2152200e0cb2ef', \n",
    "            'Other lesion': '53b1a490cd7e3a30e94014bdfd314d14', 'Infiltration': '1aaa4b217affae30113bd3a7a384a4c7', \n",
    "            'Pleural effusion': '04bb8bd7ee6f88a16623fe5c6dd4da91', 'Calcification': 'dfd523a5991fc852654bf1235c6282c6', \n",
    "            'Consolidation': '4b91d54f3170a9c8a757e6acd6c25588', 'Pneumothorax': 'f51434ef988e30a05f8b0986814d9485'}"
   ]
  },
  {
   "cell_type": "code",
   "execution_count": 249,
   "metadata": {},
   "outputs": [],
   "source": [
    "# Massive ambiguity is present within the dataset. Even though each image is annotated by only 3 radiologists, \n",
    "# there does not seem to be any consistency as to how many times each radiologist can label each image. \n",
    "# As seen below, one radiologist annotated the same image 14 times. \n",
    "\n",
    "# To solve for this discrepency in image labeling, I'm going to take the highest value count of each images' labeling, and \n",
    "# label that image accordingly. If that proves to not be effective, taking the top 2 classes may be the next step.\n",
    "\n",
    "temp"
   ]
  },
  {
   "cell_type": "code",
   "execution_count": 23,
   "metadata": {},
   "outputs": [],
   "source": [
    "# possibility to consider for modeling, reduce any duplicate boxes to limit ambiguity. \n",
    "\n",
    "(temp[['x_min', 'y_min']].sort_values(by='x_min').drop_duplicates()).shape"
   ]
  },
  {
   "cell_type": "code",
   "execution_count": 24,
   "metadata": {},
   "outputs": [],
   "source": [
    "# Pull images from dataframe that have highest frequency of one label name, create images from their pixel arrays, and plot \n",
    "# all bounding boxes linked to that image\n",
    "\n",
    "### Important step to take because it visualizes the common 'look' of a condition versus another. Not only that, some \n",
    "### conditions, like 'Nodule/Mass' rarely has one to five boxes labeled, but upwards of 20+.\n",
    "\n",
    "ims = []\n",
    "bbox = []\n",
    "for key,id_ in high_ims.items():\n",
    "\n",
    "    dicom_path = train_img + id_ + '.dicom'\n",
    "    dicom = pydicom.dcmread(dicom_path)\n",
    "    \n",
    "    data = dicom.pixel_array\n",
    "    data = data - np.min(data)\n",
    "    data = data / np.max(data)\n",
    "    data = (data * 255).astype(np.uint8)\n",
    "    im = Image.fromarray(data)\n",
    "    \n",
    "    df = train_df[train_df.image_id == id_]\n",
    "    box_values = df.iloc[:,4:]\n",
    "    for v in box_values.values:\n",
    "        xy = (v[0], v[1])\n",
    "        width = (v[2] - v[0])\n",
    "        height = (v[3] - v[1])\n",
    "        box = patches.Rectangle((xy), width=width, height=height, edgecolor='white', fill=False)\n",
    "        bbox.append(box)\n",
    "    fig, ax = plt.subplots(1)\n",
    "    plt.figure(figsize=(20,20))\n",
    "    for b in bbox:\n",
    "        ax.add_patch(b)\n",
    "    ax.set_title(str(key))\n",
    "    ax.set_xticks([])\n",
    "    ax.set_yticks([])\n",
    "    ax.imshow(im)\n",
    "    bbox = []"
   ]
  },
  {
   "cell_type": "code",
   "execution_count": null,
   "metadata": {},
   "outputs": [],
   "source": []
  }
 ],
 "metadata": {
  "kernelspec": {
   "display_name": "Python 3",
   "language": "python",
   "name": "python3"
  },
  "language_info": {
   "codemirror_mode": {
    "name": "ipython",
    "version": 3
   },
   "file_extension": ".py",
   "mimetype": "text/x-python",
   "name": "python",
   "nbconvert_exporter": "python",
   "pygments_lexer": "ipython3",
   "version": "3.8.5"
  }
 },
 "nbformat": 4,
 "nbformat_minor": 4
}
