{
 "cells": [
  {
   "cell_type": "code",
   "execution_count": null,
   "metadata": {},
   "outputs": [],
   "source": [
    "import pandas as pd\n",
    "import numpy as np\n",
    "import pydot\n",
    "import graphviz\n",
    "import scipy\n",
    "import matplotlib.pyplot\n",
    "import tensorflow as tf\n",
    "from tensorflow.keras import *\n",
    "from tensorflow import keras, layers\n",
    "from tensorflow.keras.layers import *\n",
    "\n",
    "from sklearn.preprocessing import MultiLabelBinarizer\n",
    "from sklearn.metrics import precision_score, recall_score, average_precision_score, precision_recall_curve\n",
    "from sklearn.model_selection import train_test_split\n",
    "from tensorflow.python.client import device_lib\n",
    "\n",
    "device_lib.list_local_devices()"
   ]
  },
  {
   "cell_type": "code",
   "execution_count": null,
   "metadata": {},
   "outputs": [],
   "source": [
    "train_data = pd.read_csv('train.csv')\n",
    "new_df = pd.read_csv('data.csv')"
   ]
  },
  {
   "cell_type": "code",
   "execution_count": null,
   "metadata": {},
   "outputs": [],
   "source": [
    "ss = pd.read_csv('sample_submission.csv')"
   ]
  },
  {
   "cell_type": "code",
   "execution_count": null,
   "metadata": {},
   "outputs": [],
   "source": [
    "ss.head()"
   ]
  },
  {
   "cell_type": "code",
   "execution_count": null,
   "metadata": {},
   "outputs": [],
   "source": [
    "new_df.head()"
   ]
  },
  {
   "cell_type": "code",
   "execution_count": null,
   "metadata": {},
   "outputs": [],
   "source": [
    "image = Input((256,256,1))\n",
    "\n",
    "in1 = Conv2D(32,3, strides = (5,5), use_bias=False, padding='same')(image)\n",
    "in1 = Conv2D(32,3, strides = (3,3), use_bias=False, padding='same')(in1)\n",
    "in1 = BatchNormalization(center=True, scale=False)(in1)\n",
    "in1 = Activation('relu')(in1)\n",
    "in1 = MaxPooling2D((2,2), strides = (1,1), padding='same')(in1)\n",
    "in1 = Conv2D(64,6, strides = (3,3), use_bias=False, padding='same')(in1)\n",
    "in1 = Conv2D(64,6, strides = (3,3), use_bias=False, padding='same')(in1)\n",
    "in1 = BatchNormalization(center=True, scale=False)(in1)\n",
    "in1 = Activation('relu')(in1)\n",
    "in1 = MaxPooling2D((2,2), strides = (1,1), padding='same')(in1)\n",
    "in1 = Conv2D(128,6, strides = (3,3), use_bias=False, padding='same')(in1)\n",
    "in1 = Conv2D(128,6, strides = (3,3), use_bias=False, padding='same')(in1)\n",
    "in1 = BatchNormalization(center=True, scale=False)(in1)\n",
    "in1 = Activation('relu')(in1)\n",
    "in1 = Flatten()(in1)\n",
    "\n",
    "out1 = Dense(100, use_bias=False)(in1)\n",
    "out1 = BatchNormalization(center=True, scale=False)(out1)\n",
    "out1 = Activation('relu')(out1)\n",
    "out1 = Dropout(0.4)(out1)\n",
    "out1 = Dense(50, use_bias=False)(out1)\n",
    "out1 = BatchNormalization(center=True, scale=False)(out1)\n",
    "out1 = Activation('relu')(out1)\n",
    "out1 = Dropout(0.4)(out1)\n",
    "out1 = Dense(15, activation='relu')(out1)\n",
    "out1 = Softmax(name='class_label')(out1)\n",
    "\n",
    "out2 = Dense(50, activation='relu')(in1)\n",
    "out2 = Dropout(0.2)(out2)\n",
    "out2 = Dense(12, activation='relu')(out2)\n",
    "out2 = Dense(4, activation='relu', name='bbox')(out2)\n",
    "\n",
    "model2 = tf.keras.Model(inputs=image, outputs=[out1,out2])\n",
    "\n",
    "model2.compile(optimizer=tf.keras.optimizers.SGD(\n",
    "    learning_rate=0.01), loss={'class_label': 'binary_crossentropy', 'bbox': 'mean_squared_error'}, \n",
    "               metrics=['accuracy'])"
   ]
  },
  {
   "cell_type": "code",
   "execution_count": null,
   "metadata": {},
   "outputs": [],
   "source": [
    "files = np.load('arrays.npz')\n",
    "\n",
    "arrays = [files[key] for key in files]"
   ]
  },
  {
   "cell_type": "code",
   "execution_count": null,
   "metadata": {},
   "outputs": [],
   "source": [
    "test_files = np.load('test_arrays.npz')\n",
    "\n",
    "test_arrays = [test_files[key] for key in test_files]"
   ]
  },
  {
   "cell_type": "code",
   "execution_count": null,
   "metadata": {},
   "outputs": [],
   "source": [
    "t_ars=[]\n",
    "\n",
    "for x in test_arrays:\n",
    "    new = np.resize(x,(256,256))\n",
    "    new = np.asarray(new)\n",
    "    new = keras.preprocessing.image.img_to_array(new)\n",
    "    t_ars.append(new)"
   ]
  },
  {
   "cell_type": "code",
   "execution_count": null,
   "metadata": {},
   "outputs": [],
   "source": [
    "nps=[]\n",
    "\n",
    "for x in arrays:\n",
    "    new = np.resize(x,(256,256))\n",
    "    new = np.asarray(new)\n",
    "    new = keras.preprocessing.image.img_to_array(new)\n",
    "    nps.append(new)"
   ]
  },
  {
   "cell_type": "code",
   "execution_count": null,
   "metadata": {},
   "outputs": [],
   "source": [
    "ids = train_data.image_id.unique()\n",
    "\n",
    "labels = []\n",
    "boxes = []\n",
    "for id_ in ids:\n",
    "    df = new_df[new_df.id == id_]\n",
    "    class_label = df.iloc[:,2].values\n",
    "    bbox = df.iloc[0,3:].values\n",
    "    #label = tf.io.decode_raw(label, tf.uint8)\n",
    "    #label = tf.reshape(label, label.shape)\n",
    "    #label = tf.one_hot(label, 10)\n",
    "    labels.append(class_label)\n",
    "    boxes.append(bbox)"
   ]
  },
  {
   "cell_type": "code",
   "execution_count": null,
   "metadata": {},
   "outputs": [],
   "source": [
    "mlb = MultiLabelBinarizer()\n",
    "enc = mlb.fit_transform(labels)"
   ]
  },
  {
   "cell_type": "code",
   "execution_count": null,
   "metadata": {},
   "outputs": [],
   "source": [
    "mlb.classes_"
   ]
  },
  {
   "cell_type": "code",
   "execution_count": null,
   "metadata": {},
   "outputs": [],
   "source": [
    "class_labels = np.stack(enc)\n",
    "bbox_bound = np.stack(boxes)\n",
    "data = np.stack(nps)\n",
    "\n",
    "t_data = np.stack(t_ars)"
   ]
  },
  {
   "cell_type": "code",
   "execution_count": null,
   "metadata": {},
   "outputs": [],
   "source": [
    "X_train, X_test, y_lab_train, y_lab_test, y_box_train, y_box_test = train_test_split(data, \n",
    "                                                                                     class_labels, \n",
    "                                                                                     bbox_bound, \n",
    "                                                                                     test_size=0.1, \n",
    "                                                                                     shuffle=True, \n",
    "                                                                                     random_state=15)"
   ]
  },
  {
   "cell_type": "code",
   "execution_count": null,
   "metadata": {
    "scrolled": true
   },
   "outputs": [],
   "source": [
    "model2.summary()"
   ]
  },
  {
   "cell_type": "code",
   "execution_count": null,
   "metadata": {},
   "outputs": [],
   "source": [
    "model2.fit(X_train, [y_lab_train, y_box_train], epochs=10, batch_size=32, validation_split=0.0)"
   ]
  },
  {
   "cell_type": "code",
   "execution_count": null,
   "metadata": {},
   "outputs": [],
   "source": [
    "cls, b = model2.predict(X_test)"
   ]
  },
  {
   "cell_type": "code",
   "execution_count": null,
   "metadata": {},
   "outputs": [],
   "source": [
    "def iou(tbox, pbox):\n",
    "    b1_width = tbox[2] - tbox[0]\n",
    "    b1_length = tbox[3] - tbox[1]\n",
    "    b2_width = pbox[2] - pbox[0]\n",
    "    b2_length = pbox[3] - pbox[1]\n",
    "    \n",
    "    b1_area = b1_length * b1_width\n",
    "    b2_area = b2_length * b2_width\n",
    "    \n",
    "    y_int = np.fmin(tbox[1] + b1_length, pbox[1] + b2_length) - np.fmax(tbox[1], pbox[1])\n",
    "    x_int = np.fmin(tbox[0] + b1_width, pbox[0] + b2_width) - np.fmax(tbox[0], pbox[0])\n",
    "    \n",
    "    if y_int <= 0 or x_int <= 0:\n",
    "        return 0\n",
    "    \n",
    "    intersection = y_int * x_int\n",
    "    union = b1_area + b2_area\n",
    "    union = union - intersection\n",
    "    \n",
    "    IoU = intersection / union\n",
    "    \n",
    "    return IoU"
   ]
  },
  {
   "cell_type": "code",
   "execution_count": null,
   "metadata": {},
   "outputs": [],
   "source": [
    "ious = []\n",
    "\n",
    "for tbox, pbox in zip(y_box_test, b):\n",
    "    ious.append(iou(tbox, pbox))"
   ]
  },
  {
   "cell_type": "code",
   "execution_count": null,
   "metadata": {},
   "outputs": [],
   "source": [
    "best = []\n",
    "\n",
    "for i in ious:\n",
    "    if i >= 0.5:\n",
    "        best.append(i)"
   ]
  },
  {
   "cell_type": "code",
   "execution_count": null,
   "metadata": {},
   "outputs": [],
   "source": [
    "precision = dict()\n",
    "recall = dict()\n",
    "average_precision = dict()\n",
    "for i in range(15):\n",
    "    precision[i], recall[i], _ = precision_recall_curve(y_lab_test[:,i], cls[:,i])\n",
    "    average_precision[i] = average_precision_score(y_lab_test[:, i], cls[:, i])"
   ]
  },
  {
   "cell_type": "code",
   "execution_count": null,
   "metadata": {},
   "outputs": [],
   "source": [
    "mAP = average_precision_score(y_lab_test, cls)"
   ]
  },
  {
   "cell_type": "code",
   "execution_count": null,
   "metadata": {},
   "outputs": [],
   "source": [
    "model2.evaluate(X_test, [y_lab_test, y_box_test])"
   ]
  },
  {
   "cell_type": "code",
   "execution_count": null,
   "metadata": {},
   "outputs": [],
   "source": [
    "tf.keras.utils.plot_model(model2)"
   ]
  },
  {
   "cell_type": "code",
   "execution_count": null,
   "metadata": {},
   "outputs": [],
   "source": [
    "lab_pred, bb_pred = model2.predict(t_data)"
   ]
  },
  {
   "cell_type": "code",
   "execution_count": null,
   "metadata": {},
   "outputs": [],
   "source": [
    "metric_df = pd.DataFrame(index=range(1), columns=['model', 'epochs', 'optimizer', 'evaluated label acc.', 'evaluated bbox acc.', 'mAP'])"
   ]
  },
  {
   "cell_type": "code",
   "execution_count": null,
   "metadata": {},
   "outputs": [],
   "source": [
    "metric_df.iloc[0,0] = 'CNN'\n",
    "metric_df.iloc[0,1] = '10'\n",
    "metric_df.iloc[0,2] = 'SGD, lr = 0.01'\n",
    "metric_df.iloc[0,3] = '.912'\n",
    "metric_df.iloc[0,4] = '.722'\n",
    "metric_df.iloc[0,5] = '.178'"
   ]
  },
  {
   "cell_type": "code",
   "execution_count": null,
   "metadata": {},
   "outputs": [],
   "source": [
    "metric_df.to_csv('metrics.csv')"
   ]
  }
 ],
 "metadata": {
  "kernelspec": {
   "display_name": "Python 3",
   "language": "python",
   "name": "python3"
  },
  "language_info": {
   "codemirror_mode": {
    "name": "ipython",
    "version": 3
   },
   "file_extension": ".py",
   "mimetype": "text/x-python",
   "name": "python",
   "nbconvert_exporter": "python",
   "pygments_lexer": "ipython3",
   "version": "3.7.9"
  }
 },
 "nbformat": 4,
 "nbformat_minor": 4
}
